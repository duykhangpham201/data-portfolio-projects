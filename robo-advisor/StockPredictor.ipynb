{
 "cells": [
  {
   "cell_type": "code",
   "execution_count": 1,
   "metadata": {},
   "outputs": [],
   "source": [
    "import numpy as np\n",
    "import pandas as pd\n",
    "import matplotlib.pyplot as plt\n",
    "import joblib\n",
    "\n",
    "from sklearn.preprocessing import MinMaxScaler\n",
    "from tensorflow.keras.models import Sequential\n",
    "from tensorflow.keras.layers import Dense, Flatten\n"
   ]
  },
  {
   "cell_type": "markdown",
   "metadata": {},
   "source": [
    "Loading & Adjusting Data"
   ]
  },
  {
   "cell_type": "code",
   "execution_count": 2,
   "metadata": {},
   "outputs": [],
   "source": [
    "df = pd.read_csv('VNImacrodata.csv')\n",
    "df = df[:3500]\n",
    "df = df.set_index('Date')\n",
    "\n",
    "feature_columns = []\n",
    "target_columns = []\n",
    "\n",
    "for i in df.columns:\n",
    "    if i == 'VN-Index':\n",
    "        target_columns.append(i)\n",
    "        feature_columns.append(i)\n",
    "    else:\n",
    "        feature_columns.append(i)"
   ]
  },
  {
   "cell_type": "code",
   "execution_count": 3,
   "metadata": {},
   "outputs": [
    {
     "data": {
      "text/plain": [
       "['stock_predict_scaler.save']"
      ]
     },
     "execution_count": 3,
     "metadata": {},
     "output_type": "execute_result"
    }
   ],
   "source": [
    "#Data Normalization\n",
    "scaler = MinMaxScaler(feature_range=(0,1))\n",
    "\n",
    "x_data = scaler.fit_transform(df[feature_columns].values)\n",
    "scaler_filename = \"stock_data_scaler.save\"\n",
    "joblib.dump(scaler, scaler_filename)\n",
    "\n",
    "y_data = scaler.fit_transform(df[target_columns].values)\n",
    "scaler_filename = \"stock_predict_scaler.save\"\n",
    "joblib.dump(scaler, scaler_filename)"
   ]
  },
  {
   "cell_type": "markdown",
   "metadata": {},
   "source": [
    "Crypto Prediction Model"
   ]
  },
  {
   "cell_type": "code",
   "execution_count": 4,
   "metadata": {},
   "outputs": [],
   "source": [
    "#Create Training/Testing Data\n",
    "avg_day = 20\n",
    "train_month = 6\n",
    "pred_month = 2\n",
    "\n",
    "x_train = []\n",
    "y_train = []\n",
    "\n",
    "for x in range(avg_day*train_month, len(x_data)):\n",
    "    x_train.append(x_data[(x-avg_day*train_month):(x-avg_day*pred_month)])\n",
    "    y_train.append(y_data[(x-avg_day*pred_month):x])\n",
    "\n",
    "x_train = np.array(x_train)\n",
    "y_train = np.array(y_train)"
   ]
  },
  {
   "cell_type": "code",
   "execution_count": 5,
   "metadata": {},
   "outputs": [],
   "source": [
    "#Create Model\n",
    "model = Sequential()\n",
    "model.add(Flatten())\n",
    "model.add(Dense(500, activation='relu'))\n",
    "model.add(Dense(300, activation='relu'))\n",
    "model.add(Dense(200, activation='relu'))\n",
    "model.add(Dense(40, activation='relu'))\n",
    "\n",
    "model.compile(optimizer ='adam', loss='mse', metrics=['mape'])"
   ]
  },
  {
   "cell_type": "code",
   "execution_count": 6,
   "metadata": {},
   "outputs": [
    {
     "name": "stdout",
     "output_type": "stream",
     "text": [
      "Epoch 1/50\n",
      "106/106 [==============================] - 1s 6ms/step - loss: 0.0473 - mape: 18168.7637\n",
      "Epoch 2/50\n",
      "106/106 [==============================] - 1s 5ms/step - loss: 0.0328 - mape: 16197.7578\n",
      "Epoch 3/50\n",
      "106/106 [==============================] - 1s 6ms/step - loss: 0.0264 - mape: 14206.0693\n",
      "Epoch 4/50\n",
      "106/106 [==============================] - 1s 6ms/step - loss: 0.0261 - mape: 12329.6641\n",
      "Epoch 5/50\n",
      "106/106 [==============================] - 1s 6ms/step - loss: 0.0203 - mape: 11862.3760\n",
      "Epoch 6/50\n",
      "106/106 [==============================] - 1s 5ms/step - loss: 0.0199 - mape: 9670.3760\n",
      "Epoch 7/50\n",
      "106/106 [==============================] - 1s 6ms/step - loss: 0.0194 - mape: 8920.8779\n",
      "Epoch 8/50\n",
      "106/106 [==============================] - 1s 5ms/step - loss: 0.0194 - mape: 9099.7666\n",
      "Epoch 9/50\n",
      "106/106 [==============================] - 1s 6ms/step - loss: 0.0190 - mape: 9067.6719\n",
      "Epoch 10/50\n",
      "106/106 [==============================] - 1s 5ms/step - loss: 0.0192 - mape: 8078.1685\n",
      "Epoch 11/50\n",
      "106/106 [==============================] - 1s 5ms/step - loss: 0.0189 - mape: 8372.6025\n",
      "Epoch 12/50\n",
      "106/106 [==============================] - 1s 5ms/step - loss: 0.0188 - mape: 8282.2656\n",
      "Epoch 13/50\n",
      "106/106 [==============================] - 1s 6ms/step - loss: 0.0189 - mape: 7012.1675\n",
      "Epoch 14/50\n",
      "106/106 [==============================] - 1s 7ms/step - loss: 0.0187 - mape: 6966.2822\n",
      "Epoch 15/50\n",
      "106/106 [==============================] - 1s 8ms/step - loss: 0.0186 - mape: 7769.8604\n",
      "Epoch 16/50\n",
      "106/106 [==============================] - 1s 7ms/step - loss: 0.0185 - mape: 6386.1479\n",
      "Epoch 17/50\n",
      "106/106 [==============================] - 1s 6ms/step - loss: 0.0185 - mape: 5923.1191\n",
      "Epoch 18/50\n",
      "106/106 [==============================] - 1s 7ms/step - loss: 0.0182 - mape: 9072.9766\n",
      "Epoch 19/50\n",
      "106/106 [==============================] - 1s 7ms/step - loss: 0.0128 - mape: 8002.9951\n",
      "Epoch 20/50\n",
      "106/106 [==============================] - 1s 6ms/step - loss: 0.0127 - mape: 6921.5410\n",
      "Epoch 21/50\n",
      "106/106 [==============================] - 1s 7ms/step - loss: 0.0105 - mape: 7370.1895\n",
      "Epoch 22/50\n",
      "106/106 [==============================] - 1s 7ms/step - loss: 0.0068 - mape: 7433.6938\n",
      "Epoch 23/50\n",
      "106/106 [==============================] - 1s 5ms/step - loss: 0.0069 - mape: 7117.3652\n",
      "Epoch 24/50\n",
      "106/106 [==============================] - 1s 6ms/step - loss: 0.0069 - mape: 6334.1641\n",
      "Epoch 25/50\n",
      "106/106 [==============================] - 1s 5ms/step - loss: 0.0066 - mape: 6983.7886\n",
      "Epoch 26/50\n",
      "106/106 [==============================] - 1s 5ms/step - loss: 0.0066 - mape: 5711.6948\n",
      "Epoch 27/50\n",
      "106/106 [==============================] - 1s 5ms/step - loss: 0.0067 - mape: 5991.4697\n",
      "Epoch 28/50\n",
      "106/106 [==============================] - 1s 5ms/step - loss: 0.0065 - mape: 5788.4561\n",
      "Epoch 29/50\n",
      "106/106 [==============================] - 1s 5ms/step - loss: 0.0065 - mape: 6066.8823\n",
      "Epoch 30/50\n",
      "106/106 [==============================] - 1s 5ms/step - loss: 0.0069 - mape: 5817.0513\n",
      "Epoch 31/50\n",
      "106/106 [==============================] - 1s 5ms/step - loss: 0.0064 - mape: 5210.9434\n",
      "Epoch 32/50\n",
      "106/106 [==============================] - 1s 5ms/step - loss: 0.0065 - mape: 5728.7490\n",
      "Epoch 33/50\n",
      "106/106 [==============================] - 1s 5ms/step - loss: 0.0066 - mape: 5110.5200\n",
      "Epoch 34/50\n",
      "106/106 [==============================] - 1s 5ms/step - loss: 0.0064 - mape: 5009.5156\n",
      "Epoch 35/50\n",
      "106/106 [==============================] - 1s 6ms/step - loss: 0.0065 - mape: 4695.8037\n",
      "Epoch 36/50\n",
      "106/106 [==============================] - 1s 5ms/step - loss: 0.0065 - mape: 5314.1816\n",
      "Epoch 37/50\n",
      "106/106 [==============================] - 1s 5ms/step - loss: 0.0043 - mape: 5203.9048\n",
      "Epoch 38/50\n",
      "106/106 [==============================] - 1s 5ms/step - loss: 6.5969e-04 - mape: 5897.8408\n",
      "Epoch 39/50\n",
      "106/106 [==============================] - 1s 5ms/step - loss: 7.1482e-04 - mape: 5262.7534\n",
      "Epoch 40/50\n",
      "106/106 [==============================] - 1s 5ms/step - loss: 8.0905e-04 - mape: 5236.2661\n",
      "Epoch 41/50\n",
      "106/106 [==============================] - 1s 6ms/step - loss: 6.1215e-04 - mape: 5305.8110\n",
      "Epoch 42/50\n",
      "106/106 [==============================] - 1s 5ms/step - loss: 5.9965e-04 - mape: 5265.9614\n",
      "Epoch 43/50\n",
      "106/106 [==============================] - 1s 5ms/step - loss: 5.7870e-04 - mape: 4787.2837\n",
      "Epoch 44/50\n",
      "106/106 [==============================] - 1s 5ms/step - loss: 6.1646e-04 - mape: 5196.9243\n",
      "Epoch 45/50\n",
      "106/106 [==============================] - 1s 5ms/step - loss: 8.0281e-04 - mape: 4721.8564\n",
      "Epoch 46/50\n",
      "106/106 [==============================] - 1s 5ms/step - loss: 0.0010 - mape: 6656.9199\n",
      "Epoch 47/50\n",
      "106/106 [==============================] - 1s 5ms/step - loss: 0.0011 - mape: 6121.1221\n",
      "Epoch 48/50\n",
      "106/106 [==============================] - 1s 5ms/step - loss: 6.3354e-04 - mape: 5350.7349\n",
      "Epoch 49/50\n",
      "106/106 [==============================] - 1s 6ms/step - loss: 5.3940e-04 - mape: 4648.7075\n",
      "Epoch 50/50\n",
      "106/106 [==============================] - 1s 6ms/step - loss: 5.7639e-04 - mape: 4633.6606\n"
     ]
    },
    {
     "data": {
      "text/plain": [
       "<keras.callbacks.History at 0x1837f4a5600>"
      ]
     },
     "execution_count": 6,
     "metadata": {},
     "output_type": "execute_result"
    }
   ],
   "source": [
    "#Train Model\n",
    "model.fit(x_train, y_train, epochs=50)"
   ]
  },
  {
   "cell_type": "markdown",
   "metadata": {},
   "source": [
    "Testing the Final Model"
   ]
  },
  {
   "cell_type": "code",
   "execution_count": 9,
   "metadata": {},
   "outputs": [
    {
     "name": "stdout",
     "output_type": "stream",
     "text": [
      "1/1 [==============================] - 0s 94ms/step\n"
     ]
    }
   ],
   "source": [
    "#Test Model\n",
    "test_day = 613\n",
    "actual = df[(test_day - avg_day*pred_month):test_day]['VN-Index'].values\n",
    "predict = x_data[(test_day - avg_day*train_month):(test_day - avg_day*pred_month)]\n",
    "\n",
    "predicted = model.predict(np.reshape(predict, (1,predict.shape[0], predict.shape[1])))\n",
    "predicted = np.reshape(predicted, (-1,1))\n",
    "predicted_prices = scaler.inverse_transform(predicted)"
   ]
  },
  {
   "cell_type": "code",
   "execution_count": 11,
   "metadata": {},
   "outputs": [
    {
     "data": {
      "image/png": "[encoded data removed]",
      "text/plain": [
       "<Figure size 1440x576 with 1 Axes>"
      ]
     },
     "metadata": {
      "needs_background": "light"
     },
     "output_type": "display_data"
    }
   ],
   "source": [
    "#Graphing results\n",
    "plt.rcParams[\"figure.figsize\"] = (20, 8)\n",
    "plt.plot(actual, color='black', label='Actual prices')\n",
    "plt.plot(predicted_prices, color='green', label='Predicted prices')\n",
    "plt.xlabel('Time')\n",
    "plt.legend()\n",
    "plt.show()"
   ]
  },
  {
   "cell_type": "code",
   "execution_count": 12,
   "metadata": {},
   "outputs": [
    {
     "name": "stdout",
     "output_type": "stream",
     "text": [
      "106/106 [==============================] - 0s 3ms/step - loss: 5.0594e-04 - mape: 4101.4424\n"
     ]
    },
    {
     "data": {
      "text/plain": [
       "[0.0005059358081780374, 4101.4423828125]"
      ]
     },
     "execution_count": 12,
     "metadata": {},
     "output_type": "execute_result"
    }
   ],
   "source": [
    "model.evaluate(x_train, y_train)"
   ]
  },
  {
   "cell_type": "code",
   "execution_count": 14,
   "metadata": {},
   "outputs": [
    {
     "name": "stdout",
     "output_type": "stream",
     "text": [
      "INFO:tensorflow:Assets written to: stock_predict\\assets\n"
     ]
    }
   ],
   "source": [
    "model.save('stock_predict')\n"
   ]
  }
 ],
 "metadata": {
  "interpreter": {
   "hash": "69dc0ba6a52d390fabee0fd73bec981b8d2a1d9c72f6b9edb1d1ce733cad4a2c"
  },
  "kernelspec": {
   "display_name": "Python 3.10.1 64-bit",
   "language": "python",
   "name": "python3"
  },
  "language_info": {
   "codemirror_mode": {
    "name": "ipython",
    "version": 3
   },
   "file_extension": ".py",
   "mimetype": "text/x-python",
   "name": "python",
   "nbconvert_exporter": "python",
   "pygments_lexer": "ipython3",
   "version": "3.10.1"
  },
  "orig_nbformat": 4
 },
 "nbformat": 4,
 "nbformat_minor": 2
}
