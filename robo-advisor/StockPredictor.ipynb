{
 "cells": [
  {
   "cell_type": "code",
   "execution_count": 21,
   "metadata": {},
   "outputs": [],
   "source": [
    "import numpy as np\n",
    "import pandas as pd\n",
    "import matplotlib.pyplot as plt\n",
    "import joblib\n",
    "\n",
    "from sklearn.preprocessing import MinMaxScaler\n",
    "from tensorflow.keras.models import Sequential\n",
    "from tensorflow.keras.layers import Dense, Flatten\n"
   ]
  },
  {
   "cell_type": "markdown",
   "metadata": {},
   "source": [
    "Loading & Adjusting Data"
   ]
  },
  {
   "cell_type": "code",
   "execution_count": 54,
   "metadata": {},
   "outputs": [],
   "source": [
    "df = pd.read_csv('cryptodata.csv')\n",
    "\n",
    "feature_columns = []\n",
    "target_columns = []\n",
    "\n",
    "for i in df.columns:\n",
    "    if i == 'Index':\n",
    "        target_columns.append(i)\n",
    "        feature_columns.append(i)\n",
    "    else:\n",
    "        feature_columns.append(i)"
   ]
  },
  {
   "cell_type": "code",
   "execution_count": 55,
   "metadata": {},
   "outputs": [
    {
     "data": {
      "text/plain": [
       "['crypto_predict_scaler.save']"
      ]
     },
     "execution_count": 55,
     "metadata": {},
     "output_type": "execute_result"
    }
   ],
   "source": [
    "#Data Normalization\n",
    "scaler = MinMaxScaler(feature_range=(0,1))\n",
    "\n",
    "x_data = scaler.fit_transform(df[feature_columns].values)\n",
    "scaler_filename = \"crypto_data_scaler.save\"\n",
    "joblib.dump(scaler, scaler_filename)\n",
    "\n",
    "y_data = scaler.fit_transform(df[target_columns].values)\n",
    "scaler_filename = \"crypto_predict_scaler.save\"\n",
    "joblib.dump(scaler, scaler_filename)"
   ]
  },
  {
   "cell_type": "markdown",
   "metadata": {},
   "source": [
    "Crypto Prediction Model"
   ]
  },
  {
   "cell_type": "code",
   "execution_count": 56,
   "metadata": {},
   "outputs": [],
   "source": [
    "#Create Training/Testing Data\n",
    "avg_day = 20\n",
    "train_month = 6\n",
    "pred_month = 2\n",
    "\n",
    "x_train = []\n",
    "y_train = []\n",
    "\n",
    "for x in range(avg_day*train_month, len(x_data)):\n",
    "    x_train.append(x_data[(x-avg_day*train_month):(x-avg_day*pred_month)])\n",
    "    y_train.append(y_data[(x-avg_day*pred_month):x])\n",
    "\n",
    "x_train = np.array(x_train)\n",
    "y_train = np.array(y_train)"
   ]
  },
  {
   "cell_type": "code",
   "execution_count": 66,
   "metadata": {},
   "outputs": [],
   "source": [
    "#Create Model\n",
    "model = Sequential()\n",
    "model.add(Flatten())\n",
    "model.add(Dense(500, activation='relu'))\n",
    "model.add(Dense(300, activation='relu'))\n",
    "model.add(Dense(200, activation='relu'))\n",
    "model.add(Dense(40, activation='relu'))\n",
    "\n",
    "model.compile(optimizer ='adam', loss='mse', metrics=['mape'])"
   ]
  },
  {
   "cell_type": "code",
   "execution_count": 67,
   "metadata": {},
   "outputs": [
    {
     "name": "stdout",
     "output_type": "stream",
     "text": [
      "Epoch 1/50\n",
      "33/33 [==============================] - 1s 4ms/step - loss: 0.0329 - mape: 72.0553\n",
      "Epoch 2/50\n",
      "33/33 [==============================] - 0s 4ms/step - loss: 0.0149 - mape: 43.6083\n",
      "Epoch 3/50\n",
      "33/33 [==============================] - 0s 4ms/step - loss: 0.0118 - mape: 38.4500\n",
      "Epoch 4/50\n",
      "33/33 [==============================] - 0s 4ms/step - loss: 0.0091 - mape: 32.0481\n",
      "Epoch 5/50\n",
      "33/33 [==============================] - 0s 4ms/step - loss: 0.0053 - mape: 27.4031\n",
      "Epoch 6/50\n",
      "33/33 [==============================] - 0s 4ms/step - loss: 0.0035 - mape: 22.9389\n",
      "Epoch 7/50\n",
      "33/33 [==============================] - 0s 4ms/step - loss: 0.0031 - mape: 20.3422\n",
      "Epoch 8/50\n",
      "33/33 [==============================] - 0s 4ms/step - loss: 0.0019 - mape: 19.0946\n",
      "Epoch 9/50\n",
      "33/33 [==============================] - 0s 4ms/step - loss: 0.0010 - mape: 16.8137\n",
      "Epoch 10/50\n",
      "33/33 [==============================] - 0s 4ms/step - loss: 0.0013 - mape: 18.1033\n",
      "Epoch 11/50\n",
      "33/33 [==============================] - 0s 5ms/step - loss: 0.0010 - mape: 16.2029\n",
      "Epoch 12/50\n",
      "33/33 [==============================] - 0s 6ms/step - loss: 0.0012 - mape: 16.7363\n",
      "Epoch 13/50\n",
      "33/33 [==============================] - 0s 5ms/step - loss: 0.0020 - mape: 18.0404\n",
      "Epoch 14/50\n",
      "33/33 [==============================] - 0s 5ms/step - loss: 0.0024 - mape: 20.0228\n",
      "Epoch 15/50\n",
      "33/33 [==============================] - 0s 4ms/step - loss: 0.0013 - mape: 16.0242\n",
      "Epoch 16/50\n",
      "33/33 [==============================] - 0s 4ms/step - loss: 0.0011 - mape: 15.4440\n",
      "Epoch 17/50\n",
      "33/33 [==============================] - 0s 5ms/step - loss: 7.5107e-04 - mape: 12.7318\n",
      "Epoch 18/50\n",
      "33/33 [==============================] - 0s 4ms/step - loss: 7.8747e-04 - mape: 12.6173\n",
      "Epoch 19/50\n",
      "33/33 [==============================] - 0s 5ms/step - loss: 7.0107e-04 - mape: 12.0823\n",
      "Epoch 20/50\n",
      "33/33 [==============================] - 0s 5ms/step - loss: 7.1452e-04 - mape: 12.3477\n",
      "Epoch 21/50\n",
      "33/33 [==============================] - 0s 4ms/step - loss: 6.7517e-04 - mape: 11.9098\n",
      "Epoch 22/50\n",
      "33/33 [==============================] - 0s 4ms/step - loss: 7.0173e-04 - mape: 12.1708\n",
      "Epoch 23/50\n",
      "33/33 [==============================] - 0s 4ms/step - loss: 6.4046e-04 - mape: 11.5317\n",
      "Epoch 24/50\n",
      "33/33 [==============================] - 0s 4ms/step - loss: 6.3782e-04 - mape: 11.0966\n",
      "Epoch 25/50\n",
      "33/33 [==============================] - 0s 4ms/step - loss: 7.1940e-04 - mape: 11.7918\n",
      "Epoch 26/50\n",
      "33/33 [==============================] - 0s 4ms/step - loss: 6.7174e-04 - mape: 11.3039\n",
      "Epoch 27/50\n",
      "33/33 [==============================] - 0s 4ms/step - loss: 5.9259e-04 - mape: 10.5393\n",
      "Epoch 28/50\n",
      "33/33 [==============================] - 0s 4ms/step - loss: 6.6650e-04 - mape: 11.0001\n",
      "Epoch 29/50\n",
      "33/33 [==============================] - 0s 4ms/step - loss: 6.6750e-04 - mape: 11.0717\n",
      "Epoch 30/50\n",
      "33/33 [==============================] - 0s 4ms/step - loss: 5.9191e-04 - mape: 10.5120\n",
      "Epoch 31/50\n",
      "33/33 [==============================] - 0s 4ms/step - loss: 6.8511e-04 - mape: 11.1500\n",
      "Epoch 32/50\n",
      "33/33 [==============================] - 0s 4ms/step - loss: 0.0015 - mape: 14.4122\n",
      "Epoch 33/50\n",
      "33/33 [==============================] - 0s 4ms/step - loss: 0.0015 - mape: 17.0818\n",
      "Epoch 34/50\n",
      "33/33 [==============================] - 0s 3ms/step - loss: 7.5346e-04 - mape: 11.9461\n",
      "Epoch 35/50\n",
      "33/33 [==============================] - 0s 4ms/step - loss: 6.0174e-04 - mape: 10.5968\n",
      "Epoch 36/50\n",
      "33/33 [==============================] - 0s 4ms/step - loss: 6.8017e-04 - mape: 11.0809\n",
      "Epoch 37/50\n",
      "33/33 [==============================] - 0s 4ms/step - loss: 6.2228e-04 - mape: 11.0598\n",
      "Epoch 38/50\n",
      "33/33 [==============================] - 0s 4ms/step - loss: 7.2574e-04 - mape: 10.8215\n",
      "Epoch 39/50\n",
      "33/33 [==============================] - 0s 5ms/step - loss: 6.0036e-04 - mape: 10.2553\n",
      "Epoch 40/50\n",
      "33/33 [==============================] - 0s 4ms/step - loss: 5.4142e-04 - mape: 9.6108\n",
      "Epoch 41/50\n",
      "33/33 [==============================] - 0s 4ms/step - loss: 5.4642e-04 - mape: 9.8606\n",
      "Epoch 42/50\n",
      "33/33 [==============================] - 0s 4ms/step - loss: 5.8001e-04 - mape: 9.6270\n",
      "Epoch 43/50\n",
      "33/33 [==============================] - 0s 4ms/step - loss: 6.7128e-04 - mape: 10.2497\n",
      "Epoch 44/50\n",
      "33/33 [==============================] - 0s 4ms/step - loss: 0.0034 - mape: 19.9217\n",
      "Epoch 45/50\n",
      "33/33 [==============================] - 0s 4ms/step - loss: 0.0015 - mape: 15.5055\n",
      "Epoch 46/50\n",
      "33/33 [==============================] - 0s 3ms/step - loss: 8.1995e-04 - mape: 11.9698\n",
      "Epoch 47/50\n",
      "33/33 [==============================] - 0s 4ms/step - loss: 8.4527e-04 - mape: 11.3417\n",
      "Epoch 48/50\n",
      "33/33 [==============================] - 0s 4ms/step - loss: 6.1483e-04 - mape: 10.5241\n",
      "Epoch 49/50\n",
      "33/33 [==============================] - 0s 4ms/step - loss: 5.6364e-04 - mape: 9.8504\n",
      "Epoch 50/50\n",
      "33/33 [==============================] - 0s 4ms/step - loss: 5.6771e-04 - mape: 9.6563\n"
     ]
    },
    {
     "data": {
      "text/plain": [
       "<keras.callbacks.History at 0x2ea147e5ae0>"
      ]
     },
     "execution_count": 67,
     "metadata": {},
     "output_type": "execute_result"
    }
   ],
   "source": [
    "#Train Model\n",
    "model.fit(x_train, y_train, epochs=50)"
   ]
  },
  {
   "cell_type": "markdown",
   "metadata": {},
   "source": [
    "Testing the Final Model"
   ]
  },
  {
   "cell_type": "code",
   "execution_count": 69,
   "metadata": {},
   "outputs": [
    {
     "name": "stdout",
     "output_type": "stream",
     "text": [
      "1/1 [==============================] - 0s 23ms/step\n"
     ]
    }
   ],
   "source": [
    "#Test Model\n",
    "test_day = 613\n",
    "actual = df[(test_day - avg_day*pred_month):test_day]['Index'].values\n",
    "predict = x_data[(test_day - avg_day*train_month):(test_day - avg_day*pred_month)]\n",
    "\n",
    "predicted = model.predict(np.reshape(predict, (1,predict.shape[0], predict.shape[1])))\n",
    "predicted = np.reshape(predicted, (-1,1))\n",
    "predicted_prices = scaler.inverse_transform(predicted)"
   ]
  },
  {
   "cell_type": "code",
   "execution_count": 70,
   "metadata": {},
   "outputs": [
    {
     "data": {
      "image/png": "[encoded data removed]",
      "text/plain": [
       "<Figure size 1440x576 with 1 Axes>"
      ]
     },
     "metadata": {
      "needs_background": "light"
     },
     "output_type": "display_data"
    }
   ],
   "source": [
    "#Graphing results\n",
    "plt.rcParams[\"figure.figsize\"] = (20, 8)\n",
    "plt.plot(actual, color='black', label='Actual prices')\n",
    "plt.plot(predicted_prices, color='green', label='Predicted prices')\n",
    "plt.xlabel('Time')\n",
    "plt.legend()\n",
    "plt.show()"
   ]
  },
  {
   "cell_type": "code",
   "execution_count": 71,
   "metadata": {},
   "outputs": [
    {
     "name": "stdout",
     "output_type": "stream",
     "text": [
      "33/33 [==============================] - 0s 1ms/step - loss: 5.1158e-04 - mape: 9.1704\n"
     ]
    },
    {
     "data": {
      "text/plain": [
       "[0.0005115803214721382, 9.170405387878418]"
      ]
     },
     "execution_count": 71,
     "metadata": {},
     "output_type": "execute_result"
    }
   ],
   "source": [
    "model.evaluate(x_train, y_train)"
   ]
  },
  {
   "cell_type": "code",
   "execution_count": 72,
   "metadata": {},
   "outputs": [
    {
     "name": "stdout",
     "output_type": "stream",
     "text": [
      "INFO:tensorflow:Assets written to: crypto_predict\\assets\n"
     ]
    }
   ],
   "source": [
    "model.save('crypto_predict')\n"
   ]
  }
 ],
 "metadata": {
  "interpreter": {
   "hash": "69dc0ba6a52d390fabee0fd73bec981b8d2a1d9c72f6b9edb1d1ce733cad4a2c"
  },
  "kernelspec": {
   "display_name": "Python 3.10.1 64-bit",
   "language": "python",
   "name": "python3"
  },
  "language_info": {
   "codemirror_mode": {
    "name": "ipython",
    "version": 3
   },
   "file_extension": ".py",
   "mimetype": "text/x-python",
   "name": "python",
   "nbconvert_exporter": "python",
   "pygments_lexer": "ipython3",
   "version": "3.10.1"
  },
  "orig_nbformat": 4
 },
 "nbformat": 4,
 "nbformat_minor": 2
}
