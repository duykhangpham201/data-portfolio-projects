{
 "cells": [
  {
   "cell_type": "code",
   "execution_count": 21,
   "metadata": {},
   "outputs": [],
   "source": [
    "import numpy as np\n",
    "import pandas as pd\n",
    "import matplotlib.pyplot as plt\n",
    "import joblib\n",
    "\n",
    "from sklearn.preprocessing import MinMaxScaler\n",
    "from tensorflow.keras.models import Sequential\n",
    "from tensorflow.keras.layers import Dense, Flatten\n"
   ]
  },
  {
   "cell_type": "markdown",
   "metadata": {},
   "source": [
    "Loading & Adjusting Data"
   ]
  },
  {
   "cell_type": "code",
   "execution_count": 80,
   "metadata": {},
   "outputs": [],
   "source": [
    "df = pd.read_csv('cryptodata.csv')\n",
    "\n",
    "feature_columns = []\n",
    "target_columns = []\n",
    "\n",
    "for i in df.columns:\n",
    "    if i == 'Index':\n",
    "        target_columns.append(i)\n",
    "        feature_columns.append(i)\n",
    "    else:\n",
    "        feature_columns.append(i)"
   ]
  },
  {
   "cell_type": "code",
   "execution_count": 74,
   "metadata": {},
   "outputs": [
    {
     "data": {
      "text/plain": [
       "['crypto_predict_scaler.save']"
      ]
     },
     "execution_count": 74,
     "metadata": {},
     "output_type": "execute_result"
    }
   ],
   "source": [
    "#Data Normalization\n",
    "scaler = MinMaxScaler(feature_range=(0,1))\n",
    "\n",
    "x_data = scaler.fit_transform(df[feature_columns].values)\n",
    "scaler_filename = \"crypto_data_scaler.save\"\n",
    "joblib.dump(scaler, scaler_filename)\n",
    "\n",
    "y_data = scaler.fit_transform(df[target_columns].values)\n",
    "scaler_filename = \"crypto_predict_scaler.save\"\n",
    "joblib.dump(scaler, scaler_filename)"
   ]
  },
  {
   "cell_type": "markdown",
   "metadata": {},
   "source": [
    "Crypto Prediction Model"
   ]
  },
  {
   "cell_type": "code",
   "execution_count": 75,
   "metadata": {},
   "outputs": [],
   "source": [
    "#Create Training/Testing Data\n",
    "avg_day = 20\n",
    "train_month = 6\n",
    "pred_month = 2\n",
    "\n",
    "x_train = []\n",
    "y_train = []\n",
    "\n",
    "for x in range(avg_day*train_month, len(x_data)):\n",
    "    x_train.append(x_data[(x-avg_day*train_month):(x-avg_day*pred_month)])\n",
    "    y_train.append(y_data[(x-avg_day*pred_month):x])\n",
    "\n",
    "x_train = np.array(x_train)\n",
    "y_train = np.array(y_train)"
   ]
  },
  {
   "cell_type": "code",
   "execution_count": 82,
   "metadata": {},
   "outputs": [],
   "source": [
    "#Create Model\n",
    "model = Sequential()\n",
    "model.add(Flatten())\n",
    "model.add(Dense(500, activation='relu'))\n",
    "model.add(Dense(300, activation='relu'))\n",
    "model.add(Dense(200, activation='relu'))\n",
    "model.add(Dense(40, activation='relu'))\n",
    "\n",
    "model.compile(optimizer ='adam', loss='mse', metrics=['mape'])"
   ]
  },
  {
   "cell_type": "code",
   "execution_count": 88,
   "metadata": {},
   "outputs": [
    {
     "name": "stdout",
     "output_type": "stream",
     "text": [
      "Epoch 1/50\n",
      "33/33 [==============================] - 0s 4ms/step - loss: 0.0023 - mape: 13.9490\n",
      "Epoch 2/50\n",
      "33/33 [==============================] - 0s 4ms/step - loss: 0.0023 - mape: 12.6453\n",
      "Epoch 3/50\n",
      "33/33 [==============================] - 0s 4ms/step - loss: 0.0022 - mape: 11.8238\n",
      "Epoch 4/50\n",
      "33/33 [==============================] - 0s 4ms/step - loss: 0.0022 - mape: 11.9991\n",
      "Epoch 5/50\n",
      "33/33 [==============================] - 0s 4ms/step - loss: 0.0021 - mape: 11.0045\n",
      "Epoch 6/50\n",
      "33/33 [==============================] - 0s 5ms/step - loss: 0.0022 - mape: 11.8473\n",
      "Epoch 7/50\n",
      "33/33 [==============================] - 0s 4ms/step - loss: 0.0024 - mape: 13.5509\n",
      "Epoch 8/50\n",
      "33/33 [==============================] - 0s 4ms/step - loss: 0.0023 - mape: 13.1396\n",
      "Epoch 9/50\n",
      "33/33 [==============================] - 0s 4ms/step - loss: 0.0021 - mape: 11.5458\n",
      "Epoch 10/50\n",
      "33/33 [==============================] - 0s 4ms/step - loss: 0.0021 - mape: 11.2989\n",
      "Epoch 11/50\n",
      "33/33 [==============================] - 0s 4ms/step - loss: 0.0021 - mape: 10.7257\n",
      "Epoch 12/50\n",
      "33/33 [==============================] - 0s 4ms/step - loss: 0.0020 - mape: 10.2791\n",
      "Epoch 13/50\n",
      "33/33 [==============================] - 0s 4ms/step - loss: 0.0021 - mape: 10.3535\n",
      "Epoch 14/50\n",
      "33/33 [==============================] - 0s 4ms/step - loss: 0.0029 - mape: 15.9057\n",
      "Epoch 15/50\n",
      "33/33 [==============================] - 0s 4ms/step - loss: 0.0024 - mape: 14.2802\n",
      "Epoch 16/50\n",
      "33/33 [==============================] - 0s 4ms/step - loss: 0.0014 - mape: 12.6593\n",
      "Epoch 17/50\n",
      "33/33 [==============================] - 0s 4ms/step - loss: 5.2091e-04 - mape: 10.0292\n",
      "Epoch 18/50\n",
      "33/33 [==============================] - 0s 4ms/step - loss: 5.0705e-04 - mape: 8.9588\n",
      "Epoch 19/50\n",
      "33/33 [==============================] - 0s 4ms/step - loss: 5.1185e-04 - mape: 8.9726\n",
      "Epoch 20/50\n",
      "33/33 [==============================] - 0s 4ms/step - loss: 5.4150e-04 - mape: 8.9850\n",
      "Epoch 21/50\n",
      "33/33 [==============================] - 0s 4ms/step - loss: 4.4088e-04 - mape: 8.5116\n",
      "Epoch 22/50\n",
      "33/33 [==============================] - 0s 4ms/step - loss: 4.4160e-04 - mape: 8.3237\n",
      "Epoch 23/50\n",
      "33/33 [==============================] - 0s 4ms/step - loss: 3.8333e-04 - mape: 7.8021\n",
      "Epoch 24/50\n",
      "33/33 [==============================] - 0s 4ms/step - loss: 5.1689e-04 - mape: 8.7618\n",
      "Epoch 25/50\n",
      "33/33 [==============================] - 0s 4ms/step - loss: 4.9299e-04 - mape: 9.1219\n",
      "Epoch 26/50\n",
      "33/33 [==============================] - 0s 4ms/step - loss: 4.0035e-04 - mape: 8.2345\n",
      "Epoch 27/50\n",
      "33/33 [==============================] - 0s 4ms/step - loss: 3.7196e-04 - mape: 7.7423\n",
      "Epoch 28/50\n",
      "33/33 [==============================] - 0s 4ms/step - loss: 3.4419e-04 - mape: 7.3849\n",
      "Epoch 29/50\n",
      "33/33 [==============================] - 0s 4ms/step - loss: 3.4414e-04 - mape: 7.7995\n",
      "Epoch 30/50\n",
      "33/33 [==============================] - 0s 4ms/step - loss: 4.6554e-04 - mape: 8.5234\n",
      "Epoch 31/50\n",
      "33/33 [==============================] - 0s 4ms/step - loss: 7.1086e-04 - mape: 11.0546\n",
      "Epoch 32/50\n",
      "33/33 [==============================] - 0s 4ms/step - loss: 0.0020 - mape: 16.8810\n",
      "Epoch 33/50\n",
      "33/33 [==============================] - 0s 4ms/step - loss: 5.6913e-04 - mape: 10.0192\n",
      "Epoch 34/50\n",
      "33/33 [==============================] - 0s 4ms/step - loss: 4.5417e-04 - mape: 8.8090\n",
      "Epoch 35/50\n",
      "33/33 [==============================] - 0s 4ms/step - loss: 3.7876e-04 - mape: 8.2451\n",
      "Epoch 36/50\n",
      "33/33 [==============================] - 0s 4ms/step - loss: 4.2856e-04 - mape: 8.0765\n",
      "Epoch 37/50\n",
      "33/33 [==============================] - 0s 6ms/step - loss: 3.6754e-04 - mape: 7.7876\n",
      "Epoch 38/50\n",
      "33/33 [==============================] - 0s 4ms/step - loss: 3.9420e-04 - mape: 8.0851\n",
      "Epoch 39/50\n",
      "33/33 [==============================] - 0s 4ms/step - loss: 3.8428e-04 - mape: 7.7924\n",
      "Epoch 40/50\n",
      "33/33 [==============================] - 0s 4ms/step - loss: 4.1366e-04 - mape: 8.2215\n",
      "Epoch 41/50\n",
      "33/33 [==============================] - 0s 4ms/step - loss: 3.2641e-04 - mape: 7.4474\n",
      "Epoch 42/50\n",
      "33/33 [==============================] - 0s 4ms/step - loss: 3.4786e-04 - mape: 7.1769\n",
      "Epoch 43/50\n",
      "33/33 [==============================] - 0s 4ms/step - loss: 3.5883e-04 - mape: 7.7150\n",
      "Epoch 44/50\n",
      "33/33 [==============================] - 0s 4ms/step - loss: 3.4670e-04 - mape: 7.5244\n",
      "Epoch 45/50\n",
      "33/33 [==============================] - 0s 4ms/step - loss: 5.2796e-04 - mape: 8.8634\n",
      "Epoch 46/50\n",
      "33/33 [==============================] - 0s 4ms/step - loss: 3.3827e-04 - mape: 7.6820\n",
      "Epoch 47/50\n",
      "33/33 [==============================] - 0s 4ms/step - loss: 2.8244e-04 - mape: 6.8923\n",
      "Epoch 48/50\n",
      "33/33 [==============================] - 0s 4ms/step - loss: 3.2833e-04 - mape: 7.3165\n",
      "Epoch 49/50\n",
      "33/33 [==============================] - 0s 4ms/step - loss: 3.0673e-04 - mape: 7.3746\n",
      "Epoch 50/50\n",
      "33/33 [==============================] - 0s 4ms/step - loss: 2.7204e-04 - mape: 6.6737\n"
     ]
    },
    {
     "data": {
      "text/plain": [
       "<keras.callbacks.History at 0x2ea114ee170>"
      ]
     },
     "execution_count": 88,
     "metadata": {},
     "output_type": "execute_result"
    }
   ],
   "source": [
    "#Train Model\n",
    "model.fit(x_train, y_train, epochs=50)"
   ]
  },
  {
   "cell_type": "markdown",
   "metadata": {},
   "source": [
    "Testing the Final Model"
   ]
  },
  {
   "cell_type": "code",
   "execution_count": 89,
   "metadata": {},
   "outputs": [
    {
     "name": "stdout",
     "output_type": "stream",
     "text": [
      "1/1 [==============================] - 0s 17ms/step\n"
     ]
    }
   ],
   "source": [
    "#Test Model\n",
    "test_day = 613\n",
    "actual = df[(test_day - avg_day*pred_month):test_day]['Index'].values\n",
    "predict = x_data[(test_day - avg_day*train_month):(test_day - avg_day*pred_month)]\n",
    "\n",
    "predicted = model.predict(np.reshape(predict, (1,predict.shape[0], predict.shape[1])))\n",
    "predicted = np.reshape(predicted, (-1,1))\n",
    "predicted_prices = scaler.inverse_transform(predicted)"
   ]
  },
  {
   "cell_type": "code",
   "execution_count": 90,
   "metadata": {},
   "outputs": [
    {
     "data": {
      "image/png": "[encoded data removed]",
      "text/plain": [
       "<Figure size 1440x576 with 1 Axes>"
      ]
     },
     "metadata": {
      "needs_background": "light"
     },
     "output_type": "display_data"
    }
   ],
   "source": [
    "#Graphing results\n",
    "plt.rcParams[\"figure.figsize\"] = (20, 8)\n",
    "plt.plot(actual, color='black', label='Actual prices')\n",
    "plt.plot(predicted_prices, color='green', label='Predicted prices')\n",
    "plt.xlabel('Time')\n",
    "plt.legend()\n",
    "plt.show()"
   ]
  },
  {
   "cell_type": "code",
   "execution_count": 91,
   "metadata": {},
   "outputs": [
    {
     "name": "stdout",
     "output_type": "stream",
     "text": [
      "33/33 [==============================] - 0s 2ms/step - loss: 2.8005e-04 - mape: 6.9678\n"
     ]
    },
    {
     "data": {
      "text/plain": [
       "[0.000280052307061851, 6.967783451080322]"
      ]
     },
     "execution_count": 91,
     "metadata": {},
     "output_type": "execute_result"
    }
   ],
   "source": [
    "model.evaluate(x_train, y_train)"
   ]
  },
  {
   "cell_type": "code",
   "execution_count": 92,
   "metadata": {},
   "outputs": [
    {
     "name": "stdout",
     "output_type": "stream",
     "text": [
      "INFO:tensorflow:Assets written to: crypto_predict\\assets\n"
     ]
    }
   ],
   "source": [
    "model.save('crypto_predict')\n"
   ]
  }
 ],
 "metadata": {
  "interpreter": {
   "hash": "69dc0ba6a52d390fabee0fd73bec981b8d2a1d9c72f6b9edb1d1ce733cad4a2c"
  },
  "kernelspec": {
   "display_name": "Python 3.10.1 64-bit",
   "language": "python",
   "name": "python3"
  },
  "language_info": {
   "codemirror_mode": {
    "name": "ipython",
    "version": 3
   },
   "file_extension": ".py",
   "mimetype": "text/x-python",
   "name": "python",
   "nbconvert_exporter": "python",
   "pygments_lexer": "ipython3",
   "version": "3.10.1"
  },
  "orig_nbformat": 4
 },
 "nbformat": 4,
 "nbformat_minor": 2
}
